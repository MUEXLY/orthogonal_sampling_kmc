{
 "cells": [
  {
   "cell_type": "code",
   "execution_count": 1,
   "source": [
    "from analysis import DumpAnalyzer\n",
    "from os import path, walk\n",
    "from typing import Tuple\n",
    "import matplotlib.pyplot as plt\n",
    "import numpy as np\n",
    "import multiprocessing as mp"
   ],
   "metadata": {
    "collapsed": false,
    "ExecuteTime": {
     "end_time": "2024-02-18T17:08:03.639259404Z",
     "start_time": "2024-02-18T17:08:03.353421543Z"
    }
   },
   "id": "abb52ef83439281a",
   "outputs": []
  },
  {
   "cell_type": "code",
   "source": [],
   "metadata": {
    "collapsed": false,
    "ExecuteTime": {
     "end_time": "2024-02-18T17:08:03.680051475Z",
     "start_time": "2024-02-18T17:08:03.679508886Z"
    }
   },
   "id": "5bd65b82def494d6",
   "execution_count": 1,
   "outputs": []
  },
  {
   "cell_type": "code",
   "execution_count": 2,
   "source": [
    "txt_files = []\n",
    "for root, dirs, files in walk('../analysis_many_dims'):\n",
    "    for file in files:\n",
    "        if file.endswith('.txt'):\n",
    "            txt_files.append(path.join(root, file))\n",
    "das = []\n",
    "\n",
    "def open_file(file: str) -> DumpAnalyzer:\n",
    "    \"\"\"\n",
    "    Open a file and return a DumpAnalyzer object.\n",
    "    :param file: File to open.\n",
    "    :return: DumpAnalyzer object.\n",
    "    \"\"\"\n",
    "    with open(file, 'r') as f:\n",
    "        return DumpAnalyzer(import_data_file=f)\n",
    "\n",
    "with mp.Pool() as pool:\n",
    "    das = pool.map(open_file, txt_files)\n",
    "\n",
    "\n",
    "_ = \"\"\"\n",
    "# walk through dumps_compressed and store all files in a list\n",
    "dump_files = []\n",
    "for root, dirs, files in walk('dumps_compressed'):\n",
    "    for file in files:\n",
    "        if file.endswith('.xz'):\n",
    "            dump_files.append(path.join(root, file))\n",
    "\"\"\""
   ],
   "metadata": {
    "collapsed": false,
    "ExecuteTime": {
     "end_time": "2024-02-18T17:08:19.281050180Z",
     "start_time": "2024-02-18T17:08:03.679713138Z"
    }
   },
   "id": "651910a3c6a8120",
   "outputs": []
  },
  {
   "cell_type": "code",
   "execution_count": 3,
   "source": [
    "def fit(da: DumpAnalyzer) -> DumpAnalyzer:\n",
    "    \"\"\"\n",
    "    Fit the data in a DumpAnalyzer object.\n",
    "    :param da: DumpAnalyzer object to fit.\n",
    "    :return: DumpAnalyzer object with the data fitted.\n",
    "    \"\"\"\n",
    "    da.fit_line(step_size=1, r_threshold=0)\n",
    "    return da\n",
    "\n",
    "with mp.Pool() as pool:\n",
    "    das = pool.map(fit, das)\n",
    "pass"
   ],
   "metadata": {
    "collapsed": false,
    "ExecuteTime": {
     "end_time": "2024-02-18T17:08:32.955119643Z",
     "start_time": "2024-02-18T17:08:19.282332460Z"
    }
   },
   "id": "4696b921216b95e4",
   "outputs": []
  },
  {
   "cell_type": "code",
   "execution_count": 4,
   "source": [
    "args = [(i,da) for i, da in enumerate(das)]\n",
    "\n",
    "def generate_plot(args: Tuple[int, DumpAnalyzer]) -> None:\n",
    "    \"\"\"\n",
    "    Generate a plot for a DumpAnalyzer object.\n",
    "    :param args: Tuple containing the index of the DumpAnalyzer object and the DumpAnalyzer object itself.\n",
    "    :return: None\n",
    "    \"\"\"\n",
    "    i, da = args\n",
    "    da.standard_deviation = None\n",
    "    da.generate_plot(output_filename=f'../plots/plot_{i}.png', title=txt_files[i][txt_files[i].rfind('/')+1:])\n",
    "\n",
    "with mp.Pool() as pool:\n",
    "    pool.map(generate_plot, args)\n",
    "#da.generate_plot(output_filename=None, title=txt_files[i][txt_files[i].rfind('/')+1:])"
   ],
   "metadata": {
    "collapsed": false,
    "ExecuteTime": {
     "end_time": "2024-02-18T17:08:53.099256989Z",
     "start_time": "2024-02-18T17:08:32.960231430Z"
    }
   },
   "id": "2cb2d614644376b1",
   "outputs": []
  },
  {
   "cell_type": "code",
   "source": [
    "import csv\n",
    "def get_params_from_csv(csv_file: str, file_encoding: str) -> Tuple[Tuple[float, float], Tuple[float, float]]:\n",
    "    \"\"\"\n",
    "    Get the parameters from a CSV file.\n",
    "    :param csv_file: CSV file to read from.\n",
    "    :param file_encoding: Encoding of the CSV file.\n",
    "    :return: Two Tuples containing the initial mean and sd and the saddle mean and sd.\n",
    "    \"\"\"\n",
    "    with open(csv_file, 'r', encoding=file_encoding) as file:\n",
    "        reader = csv.reader(file)\n",
    "        rows = [row for row in reader]\n",
    "    init_energies = []\n",
    "    saddle_energies = []\n",
    "\n",
    "    for i in range(len(rows)):\n",
    "        if i == 0:\n",
    "            continue\n",
    "        init_energies.append(float(rows[i][2]))\n",
    "        saddle_energies.append(float(rows[i][3]))\n",
    "    init_energies = np.array(init_energies)\n",
    "    saddle_energies = np.array(saddle_energies)\n",
    "\n",
    "    def reject_outliers(data, m=100.):\n",
    "        d = np.abs(data - np.median(data))\n",
    "        mdev = np.median(d)\n",
    "        s = d / mdev if mdev else np.zeros(len(d))\n",
    "        return data[s < m]\n",
    "\n",
    "    init_energies = reject_outliers(init_energies)\n",
    "    saddle_energies = reject_outliers(saddle_energies)\n",
    "\n",
    "    init_params = (np.mean(init_energies), np.std(init_energies))\n",
    "    saddle_params = (np.mean(saddle_energies), np.std(saddle_energies))\n",
    "    return init_params, saddle_params"
   ],
   "metadata": {
    "collapsed": false,
    "ExecuteTime": {
     "end_time": "2024-02-18T17:08:53.139802680Z",
     "start_time": "2024-02-18T17:08:53.139476889Z"
    }
   },
   "id": "ee7b0f49deb8ad05",
   "execution_count": 5,
   "outputs": []
  },
  {
   "cell_type": "code",
   "execution_count": 6,
   "source": [
    "diffusivities = []\n",
    "temperatures = []\n",
    "init_params, saddle_params = get_params_from_csv('../csv/1.csv', 'utf-8')\n",
    "barrier_mean = saddle_params[0] - init_params[0]\n",
    "barrier_sd = np.sqrt(saddle_params[1]**2 + init_params[1]**2)\n",
    "for i, da_obj in enumerate(das):\n",
    "    # Use the line of best fit to get the slope (diffusion coefficient)\n",
    "    slope, _ = da_obj.line_of_best_fit\n",
    "    \n",
    "    temp = txt_files[i][txt_files[i].rfind('/')+1:]\n",
    "    temp = temp[temp.find('_')+1:-4]\n",
    "    temp = float(temp)\n",
    "    \n",
    "    # Calculate the diffusivity using the slope of the linear portion\n",
    "    diffusivity = slope / 6\n",
    "    \n",
    "    # Append the diffusivity and temperature to their respective lists\n",
    "    diffusivities.append(diffusivity)\n",
    "    temperatures.append(temp)\n",
    "\n",
    "# Get rid of any diffusivities that are 0 (we also have to get rid of the corresponding temperature)\n",
    "# Print out the temperature and diffusivity for each dump\n",
    "new_diffusivities = []\n",
    "new_temperatures = []\n",
    "for i in range(len(diffusivities)):\n",
    "    if diffusivities[i] <=0:\n",
    "        print(f'Temperature: {temperatures[i]} K, Diffusivity: {diffusivities[i]}')\n",
    "    else:\n",
    "        new_diffusivities.append(diffusivities[i])\n",
    "        new_temperatures.append(temperatures[i])\n",
    "\n",
    "diffusivities = new_diffusivities\n",
    "temperatures = new_temperatures\n",
    "# Convert lists to NumPy arrays\n",
    "diffusivities = np.array(diffusivities)\n",
    "diffusivities = np.log(diffusivities)\n",
    "temperatures = np.array(temperatures)\n",
    "temperatures *= 8.617333262145e-5 # Convert from Kelvin to eV\n",
    "temperatures = 1 / temperatures # Take the reciprocal of the temperatures\n",
    "\n",
    "\n",
    "# Create a scatter plot of diffusivity vs. temperature\n",
    "plt.figure(figsize=(8, 6))\n",
    "plt.scatter(temperatures, diffusivities, marker='o', color='b')\n",
    "# plot the line of best fit and print the equation\n",
    "# liner regression\n",
    "m, b = np.polyfit(temperatures, diffusivities, 1)\n",
    "plt.plot(temperatures, m*temperatures + b, color='r')\n",
    "print(f'y = {m}x + {b}')\n",
    "print(f'barrier mean: {barrier_mean}, barrier sd: {barrier_sd}')\n",
    "plt.xlabel('1/T (eV^-1)')\n",
    "plt.ylabel('ln(D)')\n",
    "plt.title('Diffusivity vs. Temperature')\n",
    "plt.grid(True)\n",
    "plt.show()"
   ],
   "metadata": {
    "collapsed": false,
    "ExecuteTime": {
     "end_time": "2024-02-18T17:08:53.228089900Z",
     "start_time": "2024-02-18T17:08:53.139616817Z"
    }
   },
   "id": "36cdd64a3db1f16",
   "outputs": []
  },
  {
   "cell_type": "code",
   "execution_count": null,
   "source": [
    "pass"
   ],
   "metadata": {
    "collapsed": false,
    "ExecuteTime": {
     "end_time": "2024-02-18T17:08:53.229730770Z",
     "start_time": "2024-02-18T17:08:53.229022739Z"
    }
   },
   "id": "ec8e1707236d4549",
   "outputs": []
  }
 ],
 "metadata": {
  "kernelspec": {
   "display_name": "Python 3",
   "language": "python",
   "name": "python3"
  },
  "language_info": {
   "codemirror_mode": {
    "name": "ipython",
    "version": 2
   },
   "file_extension": ".py",
   "mimetype": "text/x-python",
   "name": "python",
   "nbconvert_exporter": "python",
   "pygments_lexer": "ipython2",
   "version": "2.7.6"
  }
 },
 "nbformat": 4,
 "nbformat_minor": 5
}
