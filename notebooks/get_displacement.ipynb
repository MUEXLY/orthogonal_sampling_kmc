{
 "cells": [
  {
   "cell_type": "code",
   "execution_count": 1,
   "id": "initial_id",
   "metadata": {
    "collapsed": true,
    "ExecuteTime": {
     "end_time": "2024-02-18T02:00:00.977705540Z",
     "start_time": "2024-02-18T02:00:00.185863064Z"
    }
   },
   "source": [
    "from analysis import DumpAnalyzer\n",
    "from os import walk"
   ],
   "outputs": []
  },
  {
   "cell_type": "code",
   "execution_count": 2,
   "source": [
    "# Parameters\n",
    "dump_dir = '../temp/dumps/'\n",
    "num_points = 20000\n",
    "# Define if you don't want to use all the files in the dump_dir\n",
    "files = None"
   ],
   "metadata": {
    "collapsed": false,
    "ExecuteTime": {
     "end_time": "2024-02-18T02:00:00.984963554Z",
     "start_time": "2024-02-18T02:00:00.979667616Z"
    }
   },
   "id": "bfaa6ac7e6fe5541",
   "outputs": []
  },
  {
   "cell_type": "code",
   "execution_count": 3,
   "source": [
    "if files is None:\n",
    "    files = [f'{dump_dir}{file}' for file in [x for x in walk(dump_dir)][0][2]]\n",
    "da = DumpAnalyzer(dump_files=files, num_points=20000)"
   ],
   "metadata": {
    "collapsed": false,
    "ExecuteTime": {
     "end_time": "2024-02-18T02:00:01.782123293Z",
     "start_time": "2024-02-18T02:00:01.162043536Z"
    }
   },
   "id": "8b4644c06545c141",
   "outputs": []
  },
  {
   "cell_type": "code",
   "execution_count": 4,
   "source": [
    "da.generate_plot()"
   ],
   "metadata": {
    "collapsed": false,
    "ExecuteTime": {
     "end_time": "2024-02-18T02:00:03.244297419Z",
     "start_time": "2024-02-18T02:00:02.089975427Z"
    }
   },
   "id": "7adb9c8561ded1fd",
   "outputs": []
  },
  {
   "cell_type": "code",
   "execution_count": 4,
   "source": [],
   "metadata": {
    "collapsed": false,
    "ExecuteTime": {
     "end_time": "2023-10-14T21:57:11.590013625Z",
     "start_time": "2023-10-14T21:57:11.589010408Z"
    }
   },
   "id": "23f45b2ab4b401fa",
   "outputs": []
  }
 ],
 "metadata": {
  "kernelspec": {
   "display_name": "Python 3",
   "language": "python",
   "name": "python3"
  },
  "language_info": {
   "codemirror_mode": {
    "name": "ipython",
    "version": 2
   },
   "file_extension": ".py",
   "mimetype": "text/x-python",
   "name": "python",
   "nbconvert_exporter": "python",
   "pygments_lexer": "ipython2",
   "version": "2.7.6"
  }
 },
 "nbformat": 4,
 "nbformat_minor": 5
}
