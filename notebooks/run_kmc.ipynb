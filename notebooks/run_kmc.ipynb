{
 "cells": [
  {
   "cell_type": "code",
   "execution_count": 1,
   "id": "initial_id",
   "metadata": {
    "collapsed": true,
    "ExecuteTime": {
     "end_time": "2024-01-28T21:56:45.271981049Z",
     "start_time": "2024-01-28T21:56:43.291513061Z"
    }
   },
   "source": [
    "import csv, random, string\n",
    "import numpy as np\n",
    "from os import mkdir, rmdir\n",
    "from shutil import move\n",
    "from os.path import exists\n",
    "from kmc import OrthogonalLattice, KineticMonteCarlo, InitialEnergies, SaddleEnergies"
   ],
   "outputs": []
  },
  {
   "cell_type": "code",
   "execution_count": 2,
   "source": [
    "# Read in the data\n",
    "with open('../csv/1.csv', 'r') as csvFile:\n",
    "    reader = csv.reader(csvFile)\n",
    "    rows = [row for row in reader]"
   ],
   "metadata": {
    "collapsed": false,
    "ExecuteTime": {
     "end_time": "2024-01-28T21:56:45.312245916Z",
     "start_time": "2024-01-28T21:56:45.311226463Z"
    }
   },
   "id": "eaef43ac2e36d814",
   "outputs": []
  },
  {
   "cell_type": "code",
   "execution_count": 3,
   "source": [
    "# Get the energies\n",
    "init_energies = []\n",
    "saddle_energies = []\n",
    "for i in range(len(rows)):\n",
    "    if i == 0:\n",
    "        continue\n",
    "    init_energies.append(float(rows[i][2]))\n",
    "    saddle_energies.append(float(rows[i][3]))\n",
    "init_energies = np.array(init_energies)\n",
    "saddle_energies = np.array(saddle_energies)\n",
    "def reject_outliers(data, m = 100.):\n",
    "    d = np.abs(data - np.median(data))\n",
    "    mdev = np.median(d)\n",
    "    s = d/mdev if mdev else np.zeros(len(d))\n",
    "    return data[s<m]\n",
    "init_energies = reject_outliers(init_energies)\n",
    "saddle_energies = reject_outliers(saddle_energies)"
   ],
   "metadata": {
    "collapsed": false,
    "ExecuteTime": {
     "end_time": "2024-01-28T21:56:45.313118863Z",
     "start_time": "2024-01-28T21:56:45.311692008Z"
    }
   },
   "id": "1415ee431ed0f261",
   "outputs": []
  },
  {
   "cell_type": "code",
   "execution_count": 4,
   "source": [
    "init_params = (np.mean(init_energies), np.std(init_energies))\n",
    "saddle_params = (np.mean(saddle_energies), np.std(saddle_energies))\n",
    "print(f'I: {init_params}')\n",
    "print(f'S: {saddle_params}')"
   ],
   "metadata": {
    "collapsed": false,
    "ExecuteTime": {
     "end_time": "2024-01-28T21:56:45.315427222Z",
     "start_time": "2024-01-28T21:56:45.312015221Z"
    }
   },
   "id": "89a93285bd13053f",
   "outputs": []
  },
  {
   "cell_type": "code",
   "execution_count": 5,
   "source": [
    "# Lattice params\n",
    "lattice_type = OrthogonalLattice.LatticeType.SC\n",
    "lattice_size = [5, 5, 5, 5]\n",
    "lattice_spacing = [1, 1, 1, 1]"
   ],
   "metadata": {
    "collapsed": false,
    "ExecuteTime": {
     "end_time": "2024-01-28T21:56:45.316116289Z",
     "start_time": "2024-01-28T21:56:45.312688040Z"
    }
   },
   "id": "5d2016352607008c",
   "outputs": []
  },
  {
   "cell_type": "code",
   "execution_count": 6,
   "source": [
    "# kmc params\n",
    "run_iterable = range(3) # This can be a range or a list or whatever\n",
    "steps = 1_000\n",
    "temp = 800\n",
    "output_folder = f'../dumps/'\n",
    "name_prefix = 'run_'\n",
    "name_postfix = '_4d_vacancy.dump'\n",
    "work_folder = '/tmp/' # This is where the temporary files will be stored\n",
    "compress = False # Whether to lzma compress the output files\n",
    "# The output files will look like: name_prefix + run_iterable[i] + name_postfix"
   ],
   "metadata": {
    "collapsed": false,
    "ExecuteTime": {
     "end_time": "2024-01-28T21:56:45.324352888Z",
     "start_time": "2024-01-28T21:56:45.313503929Z"
    }
   },
   "id": "c175b385ae83a18c",
   "outputs": []
  },
  {
   "cell_type": "code",
   "execution_count": 7,
   "source": [
    "myLat = OrthogonalLattice(lattice_type, lattice_size, lattice_spacing)\n",
    "random_folder_name = ''\n",
    "while True:\n",
    "    # Random folder in /tmp/ with 16 characters\n",
    "    # We want this because /tmp/ is usually a RAM disk and writing to it is faster, ESPECIALLY if we are writing to multiple files simultaneously like in this case\n",
    "    random_folder_name = ''.join(random.choice(string.ascii_uppercase + string.ascii_lowercase + string.digits) for _ in range(16))\n",
    "    if not exists(f'{work_folder}{random_folder_name}'):\n",
    "        mkdir(f'{work_folder}{random_folder_name}')\n",
    "        break\n",
    "\n",
    "file_names = [f'{work_folder}{random_folder_name}/{i}.dump' for i in run_iterable]\n",
    "initial_energies = InitialEnergies(myLat.num_sites, np.random.normal, init_params)\n",
    "saddle_energies = SaddleEnergies(myLat.get_adjacency_matrix(), np.random.normal, saddle_params, init_energies=initial_energies)\n",
    "myKMC = KineticMonteCarlo(myLat, initial_energies, saddle_energies,temp)\n",
    "myKMC.run_many(steps, file_names)\n",
    "if not exists(output_folder):\n",
    "        mkdir(output_folder)\n",
    "for i in run_iterable:\n",
    "    move(f'{work_folder}{random_folder_name}/{i}.dump', f'{output_folder}{name_prefix}{i}{name_postfix}')\n",
    "# Delete the folder\n",
    "rmdir(f'{work_folder}{random_folder_name}')"
   ],
   "metadata": {
    "collapsed": false,
    "ExecuteTime": {
     "end_time": "2024-01-28T21:56:46.575248646Z",
     "start_time": "2024-01-28T21:56:45.323121499Z"
    }
   },
   "id": "ea67fccbb953b22c",
   "outputs": []
  },
  {
   "cell_type": "code",
   "execution_count": 7,
   "source": [],
   "metadata": {
    "collapsed": false,
    "ExecuteTime": {
     "end_time": "2024-01-28T21:56:46.576427165Z",
     "start_time": "2024-01-28T21:56:46.571434914Z"
    }
   },
   "id": "e1f6a9f70d363ef9",
   "outputs": []
  }
 ],
 "metadata": {
  "kernelspec": {
   "display_name": "Python 3",
   "language": "python",
   "name": "python3"
  },
  "language_info": {
   "codemirror_mode": {
    "name": "ipython",
    "version": 2
   },
   "file_extension": ".py",
   "mimetype": "text/x-python",
   "name": "python",
   "nbconvert_exporter": "python",
   "pygments_lexer": "ipython2",
   "version": "2.7.6"
  }
 },
 "nbformat": 4,
 "nbformat_minor": 5
}
