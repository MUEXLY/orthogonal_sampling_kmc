{
 "cells": [
  {
   "cell_type": "code",
   "execution_count": 1,
   "id": "51beaff4-b2a8-4dab-949a-4a6cbb81f006",
   "metadata": {
    "ExecuteTime": {
     "end_time": "2024-04-04T00:42:02.268488Z",
     "start_time": "2024-04-04T00:42:02.264526Z"
    }
   },
   "source": [
    "import sys\n",
    "if 'analysis' not in sys.modules:\n",
    "    sys.path.append('../') "
   ],
   "outputs": []
  },
  {
   "cell_type": "code",
   "execution_count": 2,
   "id": "d19c590b26437854",
   "metadata": {
    "collapsed": false,
    "ExecuteTime": {
     "end_time": "2024-04-04T00:42:02.974389Z",
     "start_time": "2024-04-04T00:42:02.652638Z"
    }
   },
   "source": [
    "from analysis import DumpAnalyzer\n",
    "from os import path, walk, mkdir\n",
    "from math import exp\n",
    "import matplotlib.pyplot as plt\n",
    "import numpy as np\n",
    "import multiprocessing as mp\n",
    "import lzma\n",
    "import tqdm"
   ],
   "outputs": []
  },
  {
   "cell_type": "code",
   "execution_count": 3,
   "id": "7ee30037fc4678b2",
   "metadata": {
    "collapsed": false,
    "ExecuteTime": {
     "end_time": "2024-04-04T00:42:03.060797Z",
     "start_time": "2024-04-04T00:42:03.057509Z"
    }
   },
   "source": [
    "# Settings\n",
    "\n",
    "# Directory where the data is stored\n",
    "# A file example would be ../analysis_many_dims/run_N/TEMP_XD_Y_Sigma.txt\n",
    "# The file name has to be in the format TEMP_XD_Y_Sigma.txt (.xz is also supported)\n",
    "# Where TEMP is the temperature, X is the number of dimensions, Y is (counterintuitively) the x value where it is going to be plotted\n",
    "# This is because right now, Y is the saddle sigma value\n",
    "files_dir = path.join('..', 'analysis_many_dims')\n",
    "\n",
    "# r value threshold for rejecting data\n",
    "r_threshold = 0.98\n",
    "\n",
    "# Number of cores to use\n",
    "# Set to None to use all cores, if the value is greater than the number of cores available, it will use all cores\n",
    "cores = 10\n",
    "\n",
    "# Directory where the plots will be saved\n",
    "image_dir = path.join('..', 'plots')\n",
    "\n",
    "# Directory in which images of discarded data will be saved, set to None to disable\n",
    "# discarded_dir = path.join('..', 'plots','discarded')\n",
    "discarded_dir = None \n",
    "\n",
    "# Set to true if you don't want warnings\n",
    "silent = True\n",
    "\n",
    "# If you want to use specific dimensions set this to an iterable of dimensions otherwise set to None\n",
    "use_dims = None\n",
    "\n",
    "# Rate prefactor used in the KMC (Will be used to make the data be in the same units as our reference (1e-13))\n",
    "# Set to None to avoid conversion\n",
    "rate_prefactor = 1e-14\n",
    "\n",
    "# Error bar function\n",
    "# possible values are 'std' for standard deviation, 'sem' for standard error of the mean\n",
    "# or a function that takes a list of values and returns the error bar\n",
    "err_bar = 'sem'\n",
    "\n",
    "# Units for the diffusivity\n",
    "# Set to 'cm' for cm^2/s or 'angstrom' for angstrom^2/s\n",
    "# It will be used to convert the diffusivity to the correct units\n",
    "# It does assume that the analysis was done in angstrom and seconds\n",
    "distance_units='cm'"
   ],
   "outputs": []
  },
  {
   "cell_type": "code",
   "execution_count": 4,
   "id": "98d68bc4f47bf57d",
   "metadata": {
    "collapsed": false,
    "ExecuteTime": {
     "end_time": "2024-04-04T00:42:04.030746Z",
     "start_time": "2024-04-04T00:42:04.025197Z"
    }
   },
   "source": [
    "REFERENCE_PREFACTOR = 1e-13 # Reference prefactor used in the KMC\n",
    "CM_2_IN_ANGSTROM_2 = 1e-16 # 1 cm^2 = 1e-16 angstrom^2\n",
    "BOLTZMANN_CONSTANT = 8.6173303e-5 # eV/K\n",
    "\n",
    "if err_bar == 'std':\n",
    "    err_bar = np.std\n",
    "elif err_bar == 'sem':\n",
    "    err_bar = lambda lis: np.std(lis, ddof=1)/np.sqrt(len(lis))\n",
    "\n",
    "if not callable(err_bar):\n",
    "    raise ValueError('err_bar must be a function or one of the strings \"std\" or \"sem\"')\n",
    "\n",
    "if cores > mp.cpu_count() or cores is None:\n",
    "    cores = mp.cpu_count()\n",
    "if cores < 1:\n",
    "    cores = 1\n",
    "\n",
    "# Creating the directories if they don't exist\n",
    "if not path.exists(image_dir):\n",
    "    print(f'Creating directory {image_dir}')\n",
    "    mkdir(image_dir)\n",
    "if discarded_dir is not None and not path.exists(discarded_dir):\n",
    "    print(f'Creating directory {discarded_dir}')\n",
    "    mkdir(discarded_dir)\n",
    "\n",
    "# Making use_dims an iterable if it is not already\n",
    "if use_dims is not None and not hasattr(use_dims, '__iter__'):\n",
    "    use_dims = [use_dims]"
   ],
   "outputs": []
  },
  {
   "cell_type": "code",
   "execution_count": 13,
   "id": "773f4a471773d9f2",
   "metadata": {
    "collapsed": false,
    "ExecuteTime": {
     "end_time": "2024-04-04T00:59:23.538370Z",
     "start_time": "2024-04-04T00:58:52.019561Z"
    }
   },
   "source": [
    "def process_file(fp):\n",
    "    # file_path example would be ../analysis_many_dims/run_N/TEMP_XD_Y_Sigma.txt\n",
    "    file_name = path.basename(fp)\n",
    "    # file_name example would be TEMP_XD_Y_Sigma.txt\n",
    "    # split the file name into the parts we need\n",
    "    parts = file_name.split('_')\n",
    "    # parts example would be ['TEMP', 'XD', 'Y', 'Sigma.txt']\n",
    "    # get the dimensions and sigma from the parts\n",
    "    d = int(parts[1][:-1])\n",
    "    s = float(parts[2])\n",
    "    if file_name.endswith('.xz'):\n",
    "        with lzma.open(fp, 'rt') as f:\n",
    "            lyz = DumpAnalyzer(import_data_file=f)\n",
    "    else:\n",
    "        with open(fp, 'r') as f:\n",
    "            lyz = DumpAnalyzer(import_data_file=f)\n",
    "    r = lyz.fit_line(step_size=100)\n",
    "    dif = lyz.line_of_best_fit[0] / (2 * d)\n",
    "    if r < r_threshold:\n",
    "        if not silent:\n",
    "            print(f'Warning: R value for {fp} is {r}, rejecting data.')\n",
    "        if discarded_dir is None:\n",
    "            return None\n",
    "        std = lyz.standard_deviation\n",
    "        lyz.standard_deviation = None\n",
    "        run_N = path.basename(path.dirname(fp))\n",
    "        lyz.generate_plot(output_filename=path.join(discarded_dir, f'{run_N}_{file_name}.png'))\n",
    "        lyz = None\n",
    "    del lyz # Delete the lyz object to free up memory\n",
    "    return d, s, dif\n",
    "\n",
    "diffusivity = {} # diffusivity[dims][sigma] = [] of diffusivity\n",
    "means = {} # means[dims][sigma] = mean of diffusivity\n",
    "error_bars = {} # error_bars[dims][sigma] = error_bars of the diffusivity\n",
    "\n",
    "paths = []\n",
    "for root, _, files in walk(files_dir):\n",
    "    if len(files) == 0:\n",
    "        continue\n",
    "    for file in files:\n",
    "        parts = file.split('_')\n",
    "        if use_dims is not None and int(parts[1][:-1]) not in use_dims:\n",
    "            continue\n",
    "        if file.endswith('.csv') or file.endswith('.txt') or file.endswith('.xz'):\n",
    "            file_path = path.join(root, file)\n",
    "            paths.append(file_path)\n",
    "\n",
    "del files, file, parts, file_path, root\n",
    "\n",
    "# Multiprocessing to make the analyzers\n",
    "print(f'Using {cores} cores')\n",
    "with mp.Pool(cores) as pool, tqdm.tqdm(total=len(paths)) as pbar:\n",
    "    def update(*a):\n",
    "        pbar.update()\n",
    "    pbar.set_description('Processing files')\n",
    "    pbar.unit = 'files'\n",
    "    runs_list = [pool.apply_async(process_file, args=(fp,), callback=update) for fp in paths]\n",
    "    runs_list = [r.get() for r in runs_list]\n",
    "    for i in range(len(runs_list)):\n",
    "        retval = runs_list[i]\n",
    "        if retval is None:\n",
    "            continue\n",
    "        dim, sig, diff = retval\n",
    "        if dim not in diffusivity:\n",
    "            diffusivity[dim] = {}\n",
    "            means[dim] = {}\n",
    "            error_bars[dim] = {}\n",
    "        if sig not in diffusivity[dim]:\n",
    "            diffusivity[dim][sig] = []\n",
    "        diffusivity[dim][sig].append(diff)\n"
   ],
   "outputs": []
  },
  {
   "cell_type": "code",
   "execution_count": 6,
   "id": "70b99559048b12b5",
   "metadata": {
    "ExecuteTime": {
     "end_time": "2024-04-03T21:59:34.820549Z",
     "start_time": "2024-04-03T21:59:34.820407Z"
    },
    "collapsed": false
   },
   "source": [
    "for dims in diffusivity:\n",
    "    for sigma in diffusivity[dims]:\n",
    "        conversion_factor = (REFERENCE_PREFACTOR / rate_prefactor) if rate_prefactor is not None else 1\n",
    "        conversion_factor *= CM_2_IN_ANGSTROM_2 if distance_units == 'cm' else 1\n",
    "        diffusivity[dims][sigma] = np.array(diffusivity[dims][sigma]) * conversion_factor\n",
    "        means[dims][sigma] = np.mean(diffusivity[dims][sigma])\n",
    "        error_bars[dims][sigma] = err_bar(diffusivity[dims][sigma])"
   ],
   "outputs": []
  },
  {
   "cell_type": "code",
   "execution_count": 7,
   "id": "8681f46a017055c9",
   "metadata": {
    "ExecuteTime": {
     "start_time": "2024-04-03T21:39:43.969950Z"
    },
    "collapsed": false
   },
   "source": [
    "# Checking that there are at least 10 data points for each sigma\n",
    "for dims in diffusivity:\n",
    "    for sigma in diffusivity[dims]:\n",
    "        if len(diffusivity[dims][sigma]) < 10:\n",
    "            print(f'Warning: Not enough data points for {dims}D and sigma {sigma}, only {len(diffusivity[dims][sigma])} data points.')"
   ],
   "outputs": []
  },
  {
   "cell_type": "code",
   "execution_count": 18,
   "id": "c06f4e88349bc398",
   "metadata": {
    "ExecuteTime": {
     "start_time": "2024-04-03T21:39:43.986949Z"
    },
    "collapsed": false
   },
   "source": [
    "\n",
    "# graph dims number of lines with x being sigma and y being the diffusivity, with error bars\n",
    "# sort the means and error_bars based on dims\n",
    "dims_sorted = sorted(means.keys())\n",
    "\n",
    "def one_d_analytical(s):\n",
    "    barrier_mu = (-8494.804656093489) - (-8495.936351)\n",
    "    temp = 1000\n",
    "    return exp(-barrier_mu/(BOLTZMANN_CONSTANT*temp)- s**2/((BOLTZMANN_CONSTANT*temp)**2)) /8\n",
    "\n",
    "for dims in dims_sorted:\n",
    "    # Analytical solutions is known for 1D, so we will plot the known solution as well\n",
    "    plt.yscale('linear')\n",
    "    x = list(means[dims].keys())\n",
    "    y = list(means[dims].values())\n",
    "    yerr = list(error_bars[dims].values())\n",
    "    # Sort x,y,yerr based on x\n",
    "    # Use numpy to sort the x values and then use the same indices to sort the y and yerr values\n",
    "    x = np.array(x)\n",
    "    y = np.array(y)\n",
    "    yerr = np.array(yerr)\n",
    "    sort_indices = np.argsort(x)\n",
    "    x = x[sort_indices]\n",
    "    y = y[sort_indices]\n",
    "    yerr = yerr[sort_indices]\n",
    "    plt.errorbar(x, y, yerr=yerr, label=f'{dims}D')\n",
    "    if dims == 1:\n",
    "        y_analytical = [one_d_analytical(s) for s in x]\n",
    "        plt.plot(x, y_analytical, label='Analytical')\n",
    "    plt.xlabel('Sigma')\n",
    "    plt.ylabel('Diffusivity')\n",
    "    plt.legend()\n",
    "    plt.savefig(path.join(image_dir, f'diffusivity_{dims}D.png'))\n",
    "    # Clear the plot for the next set of data\n",
    "    plt.clf()\n"
   ],
   "outputs": []
  },
  {
   "cell_type": "code",
   "execution_count": 9,
   "id": "c8a9855e87ad6a8",
   "metadata": {
    "ExecuteTime": {
     "start_time": "2024-04-03T21:39:44.311714Z"
    },
    "collapsed": false
   },
   "source": [
    "# Do the same as last except all in one graph\n",
    "# graph dims number of lines with x being sigma and y being the diffusivity, with error bars\n",
    "# sort the means and error_bars based on dims\n",
    "dims_sorted = sorted(means.keys())\n",
    "\n",
    "for dims in dims_sorted:\n",
    "    x = list(means[dims].keys())\n",
    "    y = list(means[dims].values())\n",
    "    yerr = list(error_bars[dims].values())\n",
    "    # Sort x,y,yerr based on x\n",
    "    # Use numpy to sort the x values and then use the same indices to sort the y and yerr values\n",
    "    x = np.array(x)\n",
    "    y = np.array(y)\n",
    "    yerr = np.array(yerr)\n",
    "    sort_indices = np.argsort(x)\n",
    "    x = x[sort_indices]\n",
    "    y = y[sort_indices]\n",
    "    yerr = yerr[sort_indices]\n",
    "    plt.errorbar(x, y, yerr=yerr, label=f'{dims}D')\n",
    "\n",
    "plt.xlabel('Sigma')\n",
    "plt.ylabel('Diffusivity')\n",
    "plt.legend()\n",
    "plt.savefig(path.join(image_dir, 'diffusivity_all_dims.png'))\n",
    "# Clear the plot for the next set of data\n",
    "plt.clf()"
   ],
   "outputs": []
  },
  {
   "cell_type": "code",
   "execution_count": 12,
   "id": "266b02922a2037c4",
   "metadata": {
    "ExecuteTime": {
     "start_time": "2024-04-03T21:39:44.384900Z"
    },
    "collapsed": false,
    "scrolled": true
   },
   "source": [
    "# Graph 5d and compare with 5d stored in ../temp/5d.txt\n",
    "# ../temp/5d.txt is a file with format \"SIGMA 0.0 DIFFUSIVITY ERR\"\n",
    "\n",
    "# Read the file\n",
    "with open(path.join('..', 'temp', '5d.txt'), 'r') as f:\n",
    "    conversion_factor = CM_2_IN_ANGSTROM_2 if distance_units == 'cm' else 1\n",
    "    lines = f.readlines()\n",
    "    x = []\n",
    "    y = []\n",
    "    yerr = []\n",
    "    for line in lines:\n",
    "        parts = line.split()\n",
    "        x.append(float(parts[0]))\n",
    "        # parts[1] is just a column of 0.0\n",
    "        y.append(float(parts[2]))\n",
    "        yerr.append(float(parts[3]))\n",
    "    x = np.array(x) \n",
    "    y = np.array(y) * conversion_factor\n",
    "    yerr = np.array(yerr)*conversion_factor \n",
    "    \n",
    "    plt.errorbar(x, y, yerr=yerr, label='5D (Stored)')\n",
    "    # If we have 5D data, plot it\n",
    "    if 5 in dims_sorted:\n",
    "        x = list(means[5].keys())\n",
    "        y = list(means[5].values())\n",
    "        yerr = list(error_bars[5].values())\n",
    "        # Sort x,y,yerr based on x\n",
    "        # Use numpy to sort the x values and then use the same indices to sort the y and yerr values\n",
    "        x = np.array(x)\n",
    "        y = np.array(y)\n",
    "        yerr = np.array(yerr)\n",
    "        sort_indices = np.argsort(x)\n",
    "        x = x[sort_indices]\n",
    "        y = y[sort_indices]\n",
    "        yerr = yerr[sort_indices]\n",
    "        plt.errorbar(x, y, yerr=yerr, label='5D (Computed)')\n",
    "    plt.xlabel('Sigma')\n",
    "    plt.ylabel('Diffusivity')\n",
    "    plt.legend()\n",
    "    plt.show()\n",
    "    plt.clf()"
   ],
   "outputs": []
  },
  {
   "cell_type": "code",
   "execution_count": null,
   "id": "057eeafe-96ee-4738-9a60-53b79ffff46b",
   "metadata": {},
   "source": [],
   "outputs": []
  }
 ],
 "metadata": {
  "kernelspec": {
   "display_name": "Python 3 (ipykernel)",
   "language": "python",
   "name": "python3"
  },
  "language_info": {
   "codemirror_mode": {
    "name": "ipython",
    "version": 3
   },
   "file_extension": ".py",
   "mimetype": "text/x-python",
   "name": "python",
   "nbconvert_exporter": "python",
   "pygments_lexer": "ipython3",
   "version": "3.11.8"
  }
 },
 "nbformat": 4,
 "nbformat_minor": 5
}
